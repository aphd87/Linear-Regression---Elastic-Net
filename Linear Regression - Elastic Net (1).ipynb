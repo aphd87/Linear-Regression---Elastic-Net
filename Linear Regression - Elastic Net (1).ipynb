{
 "cells": [
  {
   "cell_type": "code",
   "execution_count": 33,
   "id": "16bdab1d",
   "metadata": {},
   "outputs": [
    {
     "name": "stdout",
     "output_type": "stream",
     "text": [
      "Requirement already satisfied: pydataset in c:\\users\\19144\\anaconda3\\lib\\site-packages (0.2.0)\n",
      "Requirement already satisfied: pandas in c:\\users\\19144\\anaconda3\\lib\\site-packages (from pydataset) (1.4.2)\n",
      "Requirement already satisfied: numpy>=1.18.5 in c:\\users\\19144\\anaconda3\\lib\\site-packages (from pandas->pydataset) (1.21.5)\n",
      "Requirement already satisfied: python-dateutil>=2.8.1 in c:\\users\\19144\\anaconda3\\lib\\site-packages (from pandas->pydataset) (2.8.2)\n",
      "Requirement already satisfied: pytz>=2020.1 in c:\\users\\19144\\anaconda3\\lib\\site-packages (from pandas->pydataset) (2021.3)\n",
      "Requirement already satisfied: six>=1.5 in c:\\users\\19144\\anaconda3\\lib\\site-packages (from python-dateutil>=2.8.1->pandas->pydataset) (1.16.0)\n"
     ]
    }
   ],
   "source": [
    "#pip install pydataset\n",
    "!pip install pydataset\n",
    "from pydataset import data\n",
    "import numpy as np\n",
    "import pandas as pd\n",
    "\n",
    "pd.set_option('display.max_rows', 5000)\n",
    "pd.set_option('display.max_columns', 5000)\n",
    "pd.set_option('display.width',10000)\n",
    "\n",
    "from sklearn.model_selection import GridSearchCV\n",
    "\n",
    "from sklearn.linear_model import ElasticNet\n",
    "from sklearn.linear_model import LinearRegression\n",
    "\n",
    "from sklearn.metrics import mean_squared_error"
   ]
  },
  {
   "cell_type": "code",
   "execution_count": 34,
   "id": "f13754b0",
   "metadata": {},
   "outputs": [
    {
     "name": "stdout",
     "output_type": "stream",
     "text": [
      "(601, 9)\n"
     ]
    },
    {
     "data": {
      "text/html": [
       "<div>\n",
       "<style scoped>\n",
       "    .dataframe tbody tr th:only-of-type {\n",
       "        vertical-align: middle;\n",
       "    }\n",
       "\n",
       "    .dataframe tbody tr th {\n",
       "        vertical-align: top;\n",
       "    }\n",
       "\n",
       "    .dataframe thead th {\n",
       "        text-align: right;\n",
       "    }\n",
       "</style>\n",
       "<table border=\"1\" class=\"dataframe\">\n",
       "  <thead>\n",
       "    <tr style=\"text-align: right;\">\n",
       "      <th></th>\n",
       "      <th>sex</th>\n",
       "      <th>age</th>\n",
       "      <th>ym</th>\n",
       "      <th>child</th>\n",
       "      <th>religious</th>\n",
       "      <th>education</th>\n",
       "      <th>occupation</th>\n",
       "      <th>rate</th>\n",
       "      <th>nbaffairs</th>\n",
       "    </tr>\n",
       "  </thead>\n",
       "  <tbody>\n",
       "    <tr>\n",
       "      <th>1</th>\n",
       "      <td>male</td>\n",
       "      <td>37.0</td>\n",
       "      <td>10.00</td>\n",
       "      <td>no</td>\n",
       "      <td>3</td>\n",
       "      <td>18</td>\n",
       "      <td>7</td>\n",
       "      <td>4</td>\n",
       "      <td>0</td>\n",
       "    </tr>\n",
       "    <tr>\n",
       "      <th>2</th>\n",
       "      <td>female</td>\n",
       "      <td>27.0</td>\n",
       "      <td>4.00</td>\n",
       "      <td>no</td>\n",
       "      <td>4</td>\n",
       "      <td>14</td>\n",
       "      <td>6</td>\n",
       "      <td>4</td>\n",
       "      <td>0</td>\n",
       "    </tr>\n",
       "    <tr>\n",
       "      <th>3</th>\n",
       "      <td>female</td>\n",
       "      <td>32.0</td>\n",
       "      <td>15.00</td>\n",
       "      <td>yes</td>\n",
       "      <td>1</td>\n",
       "      <td>12</td>\n",
       "      <td>1</td>\n",
       "      <td>4</td>\n",
       "      <td>0</td>\n",
       "    </tr>\n",
       "    <tr>\n",
       "      <th>4</th>\n",
       "      <td>male</td>\n",
       "      <td>57.0</td>\n",
       "      <td>15.00</td>\n",
       "      <td>yes</td>\n",
       "      <td>5</td>\n",
       "      <td>18</td>\n",
       "      <td>6</td>\n",
       "      <td>5</td>\n",
       "      <td>0</td>\n",
       "    </tr>\n",
       "    <tr>\n",
       "      <th>5</th>\n",
       "      <td>male</td>\n",
       "      <td>22.0</td>\n",
       "      <td>0.75</td>\n",
       "      <td>no</td>\n",
       "      <td>2</td>\n",
       "      <td>17</td>\n",
       "      <td>6</td>\n",
       "      <td>3</td>\n",
       "      <td>0</td>\n",
       "    </tr>\n",
       "  </tbody>\n",
       "</table>\n",
       "</div>"
      ],
      "text/plain": [
       "      sex   age     ym child  religious  education  occupation  rate  nbaffairs\n",
       "1    male  37.0  10.00    no          3         18           7     4          0\n",
       "2  female  27.0   4.00    no          4         14           6     4          0\n",
       "3  female  32.0  15.00   yes          1         12           1     4          0\n",
       "4    male  57.0  15.00   yes          5         18           6     5          0\n",
       "5    male  22.0   0.75    no          2         17           6     3          0"
      ]
     },
     "execution_count": 34,
     "metadata": {},
     "output_type": "execute_result"
    }
   ],
   "source": [
    "df = pd.DataFrame(data('Fair'))\n",
    "print(df.shape)\n",
    "df.head()\n",
    "                  "
   ]
  },
  {
   "cell_type": "code",
   "execution_count": 35,
   "id": "1cc0c37f",
   "metadata": {},
   "outputs": [],
   "source": [
    "df.loc[df.sex== 'male','sex']= 0\n",
    "df.loc[df.sex== 'female', 'sex']=1\n",
    "\n",
    "df['sex'] = df['sex'].astype(int)\n",
    "   \n",
    "df.loc[df.child== 'no', 'child'] = 0\n",
    "df.loc[df.child=='yes','child'] = 1\n",
    "df['child'] = df['child'].astype(int)"
   ]
  },
  {
   "cell_type": "code",
   "execution_count": 36,
   "id": "3e5de480",
   "metadata": {},
   "outputs": [],
   "source": [
    "x=df[['religious', 'age', 'sex', 'ym','education','occupation','nbaffairs']]\n",
    "y=df['rate']"
   ]
  },
  {
   "cell_type": "code",
   "execution_count": 37,
   "id": "1b15d652",
   "metadata": {},
   "outputs": [],
   "source": [
    "#Create the baseline model \n",
    "\n",
    "regression=LinearRegression()\n",
    "regression.fit(x,y)\n",
    "\n",
    "first_model=(mean_squared_error(y_true=y, y_pred=regression.predict(x)))"
   ]
  },
  {
   "cell_type": "code",
   "execution_count": 38,
   "id": "7e1c6436",
   "metadata": {},
   "outputs": [
    {
     "name": "stdout",
     "output_type": "stream",
     "text": [
      "1.0498738644696668\n"
     ]
    }
   ],
   "source": [
    "print(first_model)"
   ]
  },
  {
   "cell_type": "code",
   "execution_count": 39,
   "id": "787e2845",
   "metadata": {},
   "outputs": [
    {
     "data": {
      "text/plain": [
       "{'religious': 0.042352811106391754,\n",
       " 'age': -0.009059645428673812,\n",
       " 'sex': 0.08882013337087144,\n",
       " 'ym': -0.030458802565476582,\n",
       " 'education': 0.06810255742293708,\n",
       " 'occupation': -0.005979506852998105,\n",
       " 'nbaffairs': -0.07882571247653965}"
      ]
     },
     "execution_count": 39,
     "metadata": {},
     "output_type": "execute_result"
    }
   ],
   "source": [
    "coef_dict_baseline = {}\n",
    "\n",
    "for coef, feat in zip(regression.coef_,x.columns):\n",
    "        coef_dict_baseline[feat] = coef\n",
    "\n",
    "coef_dict_baseline"
   ]
  },
  {
   "cell_type": "code",
   "execution_count": 47,
   "id": "86d6838b",
   "metadata": {},
   "outputs": [],
   "source": [
    "elastic=ElasticNet()"
   ]
  },
  {
   "cell_type": "code",
   "execution_count": 48,
   "id": "11b06d1c",
   "metadata": {},
   "outputs": [
    {
     "data": {
      "text/plain": [
       "{'alpha': 0.1, 'l1_ratio': 0.8}"
      ]
     },
     "execution_count": 48,
     "metadata": {},
     "output_type": "execute_result"
    }
   ],
   "source": [
    "# Elastic Net Model\n",
    "\n",
    "#Elastic net, just like ride and lasso regression, requires normalized data\n",
    "#We also need to create a grid.\n",
    "\n",
    "\n",
    "\n",
    "search=GridSearchCV(estimator=elastic,\n",
    "                    param_grid={'alpha':np.logspace(-5,2,8),\n",
    "                                'l1_ratio':[.2,.4,.6,.8]},\n",
    "                    scoring='neg_mean_squared_error',\n",
    "                    n_jobs=1,\n",
    "                    refit=True,\n",
    "                    cv=10)\n",
    "search.fit(x,y)\n",
    "search.best_params_"
   ]
  },
  {
   "cell_type": "code",
   "execution_count": 49,
   "id": "722ea503",
   "metadata": {},
   "outputs": [],
   "source": [
    "#These values are suitable here."
   ]
  },
  {
   "cell_type": "code",
   "execution_count": 50,
   "id": "9a0a7523",
   "metadata": {},
   "outputs": [
    {
     "name": "stdout",
     "output_type": "stream",
     "text": [
      "1.0498780469772433\n"
     ]
    }
   ],
   "source": [
    "elastic=ElasticNet(alpha=0.001, l1_ratio=0.75)\n",
    "elastic.fit(x,y)\n",
    "\n",
    "second_model=(mean_squared_error(y_true=y, y_pred=elastic.predict(x)))\n",
    "print(second_model)"
   ]
  },
  {
   "cell_type": "code",
   "execution_count": 51,
   "id": "4adf9b0c",
   "metadata": {},
   "outputs": [
    {
     "data": {
      "text/plain": [
       "{'religious': 0.041704711583328176,\n",
       " 'age': -0.009134042982645958,\n",
       " 'sex': 0.08468579772758185,\n",
       " 'ym': -0.030312108487706442,\n",
       " 'education': 0.06761018950736478,\n",
       " 'occupation': -0.005910038772690869,\n",
       " 'nbaffairs': -0.0788244729470811}"
      ]
     },
     "execution_count": 51,
     "metadata": {},
     "output_type": "execute_result"
    }
   ],
   "source": [
    "coef_dict_baseline = {}\n",
    "\n",
    "for coef, feat in zip(elastic.coef_,x.columns):\n",
    "    coef_dict_baseline[feat] = coef\n",
    "\n",
    "coef_dict_baseline"
   ]
  },
  {
   "cell_type": "code",
   "execution_count": null,
   "id": "5e9e7cd2",
   "metadata": {},
   "outputs": [],
   "source": [
    "#Coefficients mostly the same...but occupation is turning out to be 0\n",
    "#We can remove this column from our data set."
   ]
  }
 ],
 "metadata": {
  "kernelspec": {
   "display_name": "Python 3 (ipykernel)",
   "language": "python",
   "name": "python3"
  },
  "language_info": {
   "codemirror_mode": {
    "name": "ipython",
    "version": 3
   },
   "file_extension": ".py",
   "mimetype": "text/x-python",
   "name": "python",
   "nbconvert_exporter": "python",
   "pygments_lexer": "ipython3",
   "version": "3.9.12"
  }
 },
 "nbformat": 4,
 "nbformat_minor": 5
}
